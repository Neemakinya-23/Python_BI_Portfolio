{
 "cells": [
  {
   "cell_type": "code",
   "execution_count": 2,
   "id": "cf139a01-aae6-4d1a-b4eb-695ad93c6337",
   "metadata": {},
   "outputs": [],
   "source": [
    "import pandas as pd\n",
    "import numpy as np"
   ]
  },
  {
   "cell_type": "code",
   "execution_count": 5,
   "id": "dc15638c-98de-4204-bf41-85b51da70c3b",
   "metadata": {},
   "outputs": [],
   "source": [
    "Accidents_data = pd.read_csv(\"C:/Users/HP/Documents/Python Scripts/traffic_accidents.csv\")"
   ]
  },
  {
   "cell_type": "code",
   "execution_count": 6,
   "id": "3438c312-fe14-4915-adf1-282bf6ada92a",
   "metadata": {},
   "outputs": [
    {
     "name": "stdout",
     "output_type": "stream",
     "text": [
      "<class 'pandas.core.frame.DataFrame'>\n",
      "RangeIndex: 209306 entries, 0 to 209305\n",
      "Data columns (total 24 columns):\n",
      " #   Column                         Non-Null Count   Dtype \n",
      "---  ------                         --------------   ----- \n",
      " 0   crash_date                     209306 non-null  object\n",
      " 1   traffic_control_device         209306 non-null  object\n",
      " 2   weather_condition              209306 non-null  object\n",
      " 3   lighting_condition             209306 non-null  object\n",
      " 4   first_crash_type               209306 non-null  object\n",
      " 5   trafficway_type                209306 non-null  object\n",
      " 6   alignment                      209306 non-null  object\n",
      " 7   roadway_surface_cond           209306 non-null  object\n",
      " 8   road_defect                    209306 non-null  object\n",
      " 9   crash_type                     209306 non-null  object\n",
      " 10  intersection_related_i         209306 non-null  object\n",
      " 11  damage                         209306 non-null  object\n",
      " 12  prim_contributory_cause        209306 non-null  object\n",
      " 13  num_units                      209306 non-null  int64 \n",
      " 14  most_severe_injury             209306 non-null  object\n",
      " 15  injuries_total                 209306 non-null  int64 \n",
      " 16  injuries_fatal                 209306 non-null  int64 \n",
      " 17  injuries_incapacitating        209306 non-null  int64 \n",
      " 18  injuries_non_incapacitating    209306 non-null  int64 \n",
      " 19  injuries_reported_not_evident  209306 non-null  int64 \n",
      " 20  injuries_no_indication         209306 non-null  int64 \n",
      " 21  crash_hour                     209306 non-null  int64 \n",
      " 22  crash_day_of_week              209306 non-null  int64 \n",
      " 23  crash_month                    209306 non-null  int64 \n",
      "dtypes: int64(10), object(14)\n",
      "memory usage: 38.3+ MB\n"
     ]
    }
   ],
   "source": [
    "Accidents_data.info()"
   ]
  },
  {
   "cell_type": "code",
   "execution_count": 7,
   "id": "2f8f74b5-cf64-434d-886e-2dc24f797a31",
   "metadata": {},
   "outputs": [],
   "source": [
    "Accidents_data =pd.DataFrame(Accidents_data)"
   ]
  },
  {
   "cell_type": "code",
   "execution_count": 8,
   "id": "a0b258be-308d-4b84-a062-cf76fdd09688",
   "metadata": {},
   "outputs": [
    {
     "data": {
      "text/html": [
       "<div>\n",
       "<style scoped>\n",
       "    .dataframe tbody tr th:only-of-type {\n",
       "        vertical-align: middle;\n",
       "    }\n",
       "\n",
       "    .dataframe tbody tr th {\n",
       "        vertical-align: top;\n",
       "    }\n",
       "\n",
       "    .dataframe thead th {\n",
       "        text-align: right;\n",
       "    }\n",
       "</style>\n",
       "<table border=\"1\" class=\"dataframe\">\n",
       "  <thead>\n",
       "    <tr style=\"text-align: right;\">\n",
       "      <th></th>\n",
       "      <th>crash_date</th>\n",
       "      <th>traffic_control_device</th>\n",
       "      <th>weather_condition</th>\n",
       "      <th>lighting_condition</th>\n",
       "      <th>first_crash_type</th>\n",
       "      <th>trafficway_type</th>\n",
       "      <th>alignment</th>\n",
       "      <th>roadway_surface_cond</th>\n",
       "      <th>road_defect</th>\n",
       "      <th>crash_type</th>\n",
       "      <th>...</th>\n",
       "      <th>most_severe_injury</th>\n",
       "      <th>injuries_total</th>\n",
       "      <th>injuries_fatal</th>\n",
       "      <th>injuries_incapacitating</th>\n",
       "      <th>injuries_non_incapacitating</th>\n",
       "      <th>injuries_reported_not_evident</th>\n",
       "      <th>injuries_no_indication</th>\n",
       "      <th>crash_hour</th>\n",
       "      <th>crash_day_of_week</th>\n",
       "      <th>crash_month</th>\n",
       "    </tr>\n",
       "  </thead>\n",
       "  <tbody>\n",
       "    <tr>\n",
       "      <th>0</th>\n",
       "      <td>7/29/2023 13:00</td>\n",
       "      <td>TRAFFIC SIGNAL</td>\n",
       "      <td>CLEAR</td>\n",
       "      <td>DAYLIGHT</td>\n",
       "      <td>TURNING</td>\n",
       "      <td>NOT DIVIDED</td>\n",
       "      <td>STRAIGHT AND LEVEL</td>\n",
       "      <td>UNKNOWN</td>\n",
       "      <td>UNKNOWN</td>\n",
       "      <td>NO INJURY / DRIVE AWAY</td>\n",
       "      <td>...</td>\n",
       "      <td>NO INDICATION OF INJURY</td>\n",
       "      <td>0</td>\n",
       "      <td>0</td>\n",
       "      <td>0</td>\n",
       "      <td>0</td>\n",
       "      <td>0</td>\n",
       "      <td>3</td>\n",
       "      <td>13</td>\n",
       "      <td>7</td>\n",
       "      <td>7</td>\n",
       "    </tr>\n",
       "    <tr>\n",
       "      <th>1</th>\n",
       "      <td>8/13/2023 0:11</td>\n",
       "      <td>TRAFFIC SIGNAL</td>\n",
       "      <td>CLEAR</td>\n",
       "      <td>DARKNESS, LIGHTED ROAD</td>\n",
       "      <td>TURNING</td>\n",
       "      <td>FOUR WAY</td>\n",
       "      <td>STRAIGHT AND LEVEL</td>\n",
       "      <td>DRY</td>\n",
       "      <td>NO DEFECTS</td>\n",
       "      <td>NO INJURY / DRIVE AWAY</td>\n",
       "      <td>...</td>\n",
       "      <td>NO INDICATION OF INJURY</td>\n",
       "      <td>0</td>\n",
       "      <td>0</td>\n",
       "      <td>0</td>\n",
       "      <td>0</td>\n",
       "      <td>0</td>\n",
       "      <td>2</td>\n",
       "      <td>0</td>\n",
       "      <td>1</td>\n",
       "      <td>8</td>\n",
       "    </tr>\n",
       "    <tr>\n",
       "      <th>2</th>\n",
       "      <td>12/9/2021 10:30</td>\n",
       "      <td>TRAFFIC SIGNAL</td>\n",
       "      <td>CLEAR</td>\n",
       "      <td>DAYLIGHT</td>\n",
       "      <td>REAR END</td>\n",
       "      <td>T-INTERSECTION</td>\n",
       "      <td>STRAIGHT AND LEVEL</td>\n",
       "      <td>DRY</td>\n",
       "      <td>NO DEFECTS</td>\n",
       "      <td>NO INJURY / DRIVE AWAY</td>\n",
       "      <td>...</td>\n",
       "      <td>NO INDICATION OF INJURY</td>\n",
       "      <td>0</td>\n",
       "      <td>0</td>\n",
       "      <td>0</td>\n",
       "      <td>0</td>\n",
       "      <td>0</td>\n",
       "      <td>3</td>\n",
       "      <td>10</td>\n",
       "      <td>5</td>\n",
       "      <td>12</td>\n",
       "    </tr>\n",
       "  </tbody>\n",
       "</table>\n",
       "<p>3 rows × 24 columns</p>\n",
       "</div>"
      ],
      "text/plain": [
       "        crash_date traffic_control_device weather_condition  \\\n",
       "0  7/29/2023 13:00         TRAFFIC SIGNAL             CLEAR   \n",
       "1   8/13/2023 0:11         TRAFFIC SIGNAL             CLEAR   \n",
       "2  12/9/2021 10:30         TRAFFIC SIGNAL             CLEAR   \n",
       "\n",
       "       lighting_condition first_crash_type trafficway_type  \\\n",
       "0                DAYLIGHT          TURNING     NOT DIVIDED   \n",
       "1  DARKNESS, LIGHTED ROAD          TURNING        FOUR WAY   \n",
       "2                DAYLIGHT         REAR END  T-INTERSECTION   \n",
       "\n",
       "            alignment roadway_surface_cond road_defect  \\\n",
       "0  STRAIGHT AND LEVEL              UNKNOWN     UNKNOWN   \n",
       "1  STRAIGHT AND LEVEL                  DRY  NO DEFECTS   \n",
       "2  STRAIGHT AND LEVEL                  DRY  NO DEFECTS   \n",
       "\n",
       "               crash_type  ...       most_severe_injury injuries_total  \\\n",
       "0  NO INJURY / DRIVE AWAY  ...  NO INDICATION OF INJURY              0   \n",
       "1  NO INJURY / DRIVE AWAY  ...  NO INDICATION OF INJURY              0   \n",
       "2  NO INJURY / DRIVE AWAY  ...  NO INDICATION OF INJURY              0   \n",
       "\n",
       "  injuries_fatal  injuries_incapacitating injuries_non_incapacitating  \\\n",
       "0              0                        0                           0   \n",
       "1              0                        0                           0   \n",
       "2              0                        0                           0   \n",
       "\n",
       "   injuries_reported_not_evident  injuries_no_indication  crash_hour  \\\n",
       "0                              0                       3          13   \n",
       "1                              0                       2           0   \n",
       "2                              0                       3          10   \n",
       "\n",
       "   crash_day_of_week  crash_month  \n",
       "0                  7            7  \n",
       "1                  1            8  \n",
       "2                  5           12  \n",
       "\n",
       "[3 rows x 24 columns]"
      ]
     },
     "execution_count": 8,
     "metadata": {},
     "output_type": "execute_result"
    }
   ],
   "source": [
    "Accidents_data.head(3)"
   ]
  },
  {
   "cell_type": "code",
   "execution_count": 9,
   "id": "58b506e2-62d5-4b1d-9141-81bcfa76c0aa",
   "metadata": {},
   "outputs": [],
   "source": [
    "Accidents_data['crash_date'] = pd.to_datetime(Accidents_data['crash_date'], errors='coerce')\n",
    "Accidents_data['crash_year'] = Accidents_data['crash_date'].dt.year\n",
    "Accidents_data['crash_month'] = Accidents_data['crash_date'].dt.month\n",
    "Accidents_data['crash_day'] = Accidents_data['crash_date'].dt.day\n",
    "Accidents_data['crash_hour'] = Accidents_data['crash_date'].dt.hour\n",
    "Accidents_data['crash_day_of_week'] = Accidents_data['crash_date'].dt.day_name()\n"
   ]
  },
  {
   "cell_type": "code",
   "execution_count": 10,
   "id": "1a9b797a-328f-4299-9479-66f5d4862fb8",
   "metadata": {},
   "outputs": [
    {
     "data": {
      "text/plain": [
       "(209306, 26)"
      ]
     },
     "execution_count": 10,
     "metadata": {},
     "output_type": "execute_result"
    }
   ],
   "source": [
    "Accidents_data.shape"
   ]
  },
  {
   "cell_type": "code",
   "execution_count": 11,
   "id": "e43442e1-6de5-4b58-bb6f-e7e9be4d3440",
   "metadata": {},
   "outputs": [
    {
     "data": {
      "text/plain": [
       "209304    $500 OR LESS\n",
       "209305     OVER $1,500\n",
       "Name: damage, dtype: object"
      ]
     },
     "execution_count": 11,
     "metadata": {},
     "output_type": "execute_result"
    }
   ],
   "source": [
    "Accidents_data[\"damage\"].tail(2)"
   ]
  },
  {
   "cell_type": "code",
   "execution_count": 12,
   "id": "f17206eb-d45d-4d94-b369-f8b08431f6e0",
   "metadata": {},
   "outputs": [
    {
     "data": {
      "text/plain": [
       "Index(['crash_date', 'traffic_control_device', 'weather_condition',\n",
       "       'lighting_condition', 'first_crash_type', 'trafficway_type',\n",
       "       'alignment', 'roadway_surface_cond', 'road_defect', 'crash_type',\n",
       "       'intersection_related_i', 'damage', 'prim_contributory_cause',\n",
       "       'num_units', 'most_severe_injury', 'injuries_total', 'injuries_fatal',\n",
       "       'injuries_incapacitating', 'injuries_non_incapacitating',\n",
       "       'injuries_reported_not_evident', 'injuries_no_indication', 'crash_hour',\n",
       "       'crash_day_of_week', 'crash_month', 'crash_year', 'crash_day'],\n",
       "      dtype='object')"
      ]
     },
     "execution_count": 12,
     "metadata": {},
     "output_type": "execute_result"
    }
   ],
   "source": [
    "Accidents_data.columns"
   ]
  },
  {
   "cell_type": "code",
   "execution_count": 14,
   "id": "209eb3a3-3004-4740-bb48-b3d5ccdb6653",
   "metadata": {},
   "outputs": [
    {
     "data": {
      "text/plain": [
       "0    $501 - $1,500\n",
       "1      OVER $1,500\n",
       "2    $501 - $1,500\n",
       "3      OVER $1,500\n",
       "4    $501 - $1,500\n",
       "Name: damage, dtype: object"
      ]
     },
     "execution_count": 14,
     "metadata": {},
     "output_type": "execute_result"
    }
   ],
   "source": [
    "Accidents_data[\"damage\"].head()"
   ]
  },
  {
   "cell_type": "code",
   "execution_count": 16,
   "id": "fe85e6a7-5571-4fad-a928-8fa618a273a2",
   "metadata": {},
   "outputs": [],
   "source": [
    "def process_damage(value):\n",
    "    # removing the dollar signs and commas\n",
    "    value = value.replace('$', '').replace(',', '').strip().upper()  # converting to uppercase for consistency\n",
    "\n",
    "    # Handle ranges\n",
    "    if '-' in value:\n",
    "        lower, upper = map(int, value.split('-'))\n",
    "        return (lower + upper) / 2  # this is to return the average of the values given as ranges\n",
    "    elif 'ABOVE' in value or 'OVER' in value:\n",
    "        return int(value.split()[-1])  # to handle the values given with the 'above' or 'over' formats\n",
    "    elif 'OR LESS' in value:\n",
    "        return int(value.split()[0])  # to return the number before 'or less'\n",
    "    else:\n",
    "        return int(value)  # return the integer value"
   ]
  },
  {
   "cell_type": "code",
   "execution_count": 17,
   "id": "7f4e819b-b1fa-4800-82c9-91d4a6a3e4f0",
   "metadata": {},
   "outputs": [],
   "source": [
    "    # Process the damage column\n",
    "Accidents_data['damage'] = Accidents_data['damage'].apply(process_damage)"
   ]
  },
  {
   "cell_type": "code",
   "execution_count": 22,
   "id": "14b40b2c-45b6-4606-a5b7-93f7d827c22c",
   "metadata": {},
   "outputs": [
    {
     "data": {
      "text/plain": [
       "0    1000.5\n",
       "1    1500.0\n",
       "2    1000.5\n",
       "3    1500.0\n",
       "4    1000.5\n",
       "Name: damage, dtype: float64"
      ]
     },
     "execution_count": 22,
     "metadata": {},
     "output_type": "execute_result"
    }
   ],
   "source": [
    "Accidents_data[\"damage\"].head()"
   ]
  },
  {
   "cell_type": "code",
   "execution_count": null,
   "id": "fd248282-2d88-4a36-bd51-1331e8e79620",
   "metadata": {},
   "outputs": [],
   "source": []
  }
 ],
 "metadata": {
  "kernelspec": {
   "display_name": "base",
   "language": "python",
   "name": "python3"
  },
  "language_info": {
   "codemirror_mode": {
    "name": "ipython",
    "version": 3
   },
   "file_extension": ".py",
   "mimetype": "text/x-python",
   "name": "python",
   "nbconvert_exporter": "python",
   "pygments_lexer": "ipython3",
   "version": "3.12.4"
  }
 },
 "nbformat": 4,
 "nbformat_minor": 5
}
